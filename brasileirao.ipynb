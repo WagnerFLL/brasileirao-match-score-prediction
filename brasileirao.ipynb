{
 "cells": [
  {
   "cell_type": "markdown",
   "metadata": {},
   "source": [
    "# Brasileirão Championship - A study case of football scores matches predction\n",
    "------"
   ]
  },
  {
   "cell_type": "markdown",
   "metadata": {},
   "source": [
    "## CONTENT:\n",
    "- [Introduction to the problem](#Introduction-to-the-problem)\n",
    "- [Dataset's features](#Dataset's-features)\n",
    "- [Exploratory Data Analysis (EDA)](#Exploratory-Data-Analysis-(EDA))\n",
    "- [Dealing with categorical features](#Dealing-with-categorical-features)\n",
    "- [Taking a look at the models](#Taking-a-look-at-the-models)\n",
    "    - [Train and Test some models](#Train-and-Test-some-models)\n",
    "- [Feature Engineering](#Feature-Engineering-%2F-Feature-Selection)\n",
    "- [Final model evaluation and selection](#Final-model-evaluation-and-selection)\n",
    "- [Conclusion](#Conclusion)\n",
    "    - [How we could improve the model](#How-improve-the-model%3F)\n",
    "___"
   ]
  },
  {
   "cell_type": "markdown",
   "metadata": {},
   "source": [
    "## Introduction to the problem\n"
   ]
  },
  {
   "cell_type": "markdown",
   "metadata": {},
   "source": [
    "First of all, this problem was brought by __[Data Science Brigade](https://datasciencebr.com/) pratical test for the Data Scientist Job__. Felipe asked , as a test, to use [Brasileirão Championship open database](https://github.com/openfootball/br-brazil/) from 2003 to 2017, to create a model to predict 2017 game results scores.\n",
    "\n",
    "As our target is the __game score result__, is a multioutput regression problem and I'm going to attack this problem with this approach.\n",
    "\n",
    "_Note: 2016 date feature was missing. To solve the problem, I repeated 2015 date._\n",
    "___"
   ]
  },
  {
   "cell_type": "markdown",
   "metadata": {},
   "source": [
    "## Dataset's features\n",
    "\n",
    "On this section I'm going to explain about our datasets features and targets:\n",
    "- __Round__: Is referent to the Brasileirão championship rounds, where all teams play one time each round. Actually the championship have 38 rounds, but already had year with more than 40.\n",
    "    - __Data Type__: _Integer_\n",
    "- __Date__: Date when the game ocurred.\n",
    "    - __Data Type__: _Datetime_\n",
    "- __Day of week__: The day of the week which the game ocurred.\n",
    "    - __Data Type__: _String_\n",
    "- __Team 1__: The football team that is playing at the \"home stadium\".\n",
    "    - __Data Type__: _String_\n",
    "- __Team 2__: The football team that is playing at the \"opponent's stadium\".\n",
    "    - __Data Type__: _String_\n",
    "- __Goal 1__: How many goals Team 1 did in the game.\n",
    "    - __Data Type__: _Integer_\n",
    "- __Goal 2__: How many goals Team 2 did in the game.\n",
    "    - __Data Type__: _Integer_\n",
    "___"
   ]
  },
  {
   "cell_type": "markdown",
   "metadata": {},
   "source": [
    "## Exploratory Data Analysis (EDA)"
   ]
  },
  {
   "cell_type": "markdown",
   "metadata": {},
   "source": [
    "First, I will install all the libraries I'm gonna use in our application.\n",
    "\n",
    "__Advise__: _If you run this cell, these ```pip install``` commands will run on your terminal_."
   ]
  },
  {
   "cell_type": "code",
   "execution_count": 46,
   "metadata": {},
   "outputs": [
    {
     "name": "stdout",
     "output_type": "stream",
     "text": [
      "Requirement already satisfied: pandas in /home/macdowell/Programs/miniconda3/lib/python3.7/site-packages (0.24.2)\n",
      "Requirement already satisfied: numpy>=1.12.0 in /home/macdowell/Programs/miniconda3/lib/python3.7/site-packages (from pandas) (1.16.2)\n",
      "Requirement already satisfied: pytz>=2011k in /home/macdowell/Programs/miniconda3/lib/python3.7/site-packages (from pandas) (2018.7)\n",
      "Requirement already satisfied: python-dateutil>=2.5.0 in /home/macdowell/Programs/miniconda3/lib/python3.7/site-packages (from pandas) (2.7.5)\n",
      "Requirement already satisfied: six>=1.5 in /home/macdowell/Programs/miniconda3/lib/python3.7/site-packages (from python-dateutil>=2.5.0->pandas) (1.11.0)\n",
      "Requirement already satisfied: seaborn in /home/macdowell/Programs/miniconda3/lib/python3.7/site-packages (0.9.0)\n",
      "Requirement already satisfied: matplotlib>=1.4.3 in /home/macdowell/Programs/miniconda3/lib/python3.7/site-packages (from seaborn) (3.0.2)\n",
      "Requirement already satisfied: pandas>=0.15.2 in /home/macdowell/Programs/miniconda3/lib/python3.7/site-packages (from seaborn) (0.24.2)\n",
      "Requirement already satisfied: scipy>=0.14.0 in /home/macdowell/Programs/miniconda3/lib/python3.7/site-packages (from seaborn) (1.1.0)\n",
      "Requirement already satisfied: numpy>=1.9.3 in /home/macdowell/Programs/miniconda3/lib/python3.7/site-packages (from seaborn) (1.16.2)\n",
      "Requirement already satisfied: cycler>=0.10 in /home/macdowell/Programs/miniconda3/lib/python3.7/site-packages (from matplotlib>=1.4.3->seaborn) (0.10.0)\n",
      "Requirement already satisfied: kiwisolver>=1.0.1 in /home/macdowell/Programs/miniconda3/lib/python3.7/site-packages (from matplotlib>=1.4.3->seaborn) (1.0.1)\n",
      "Requirement already satisfied: pyparsing!=2.0.4,!=2.1.2,!=2.1.6,>=2.0.1 in /home/macdowell/Programs/miniconda3/lib/python3.7/site-packages (from matplotlib>=1.4.3->seaborn) (2.3.0)\n",
      "Requirement already satisfied: python-dateutil>=2.1 in /home/macdowell/Programs/miniconda3/lib/python3.7/site-packages (from matplotlib>=1.4.3->seaborn) (2.7.5)\n",
      "Requirement already satisfied: pytz>=2011k in /home/macdowell/Programs/miniconda3/lib/python3.7/site-packages (from pandas>=0.15.2->seaborn) (2018.7)\n",
      "Requirement already satisfied: six in /home/macdowell/Programs/miniconda3/lib/python3.7/site-packages (from cycler>=0.10->matplotlib>=1.4.3->seaborn) (1.11.0)\n",
      "Requirement already satisfied: setuptools in /home/macdowell/Programs/miniconda3/lib/python3.7/site-packages (from kiwisolver>=1.0.1->matplotlib>=1.4.3->seaborn) (40.2.0)\n",
      "Requirement already satisfied: matplotlib in /home/macdowell/Programs/miniconda3/lib/python3.7/site-packages (3.0.2)\n",
      "Requirement already satisfied: numpy>=1.10.0 in /home/macdowell/Programs/miniconda3/lib/python3.7/site-packages (from matplotlib) (1.16.2)\n",
      "Requirement already satisfied: cycler>=0.10 in /home/macdowell/Programs/miniconda3/lib/python3.7/site-packages (from matplotlib) (0.10.0)\n",
      "Requirement already satisfied: kiwisolver>=1.0.1 in /home/macdowell/Programs/miniconda3/lib/python3.7/site-packages (from matplotlib) (1.0.1)\n",
      "Requirement already satisfied: pyparsing!=2.0.4,!=2.1.2,!=2.1.6,>=2.0.1 in /home/macdowell/Programs/miniconda3/lib/python3.7/site-packages (from matplotlib) (2.3.0)\n",
      "Requirement already satisfied: python-dateutil>=2.1 in /home/macdowell/Programs/miniconda3/lib/python3.7/site-packages (from matplotlib) (2.7.5)\n",
      "Requirement already satisfied: six in /home/macdowell/Programs/miniconda3/lib/python3.7/site-packages (from cycler>=0.10->matplotlib) (1.11.0)\n",
      "Requirement already satisfied: setuptools in /home/macdowell/Programs/miniconda3/lib/python3.7/site-packages (from kiwisolver>=1.0.1->matplotlib) (40.2.0)\n",
      "Requirement already satisfied: sklearn in /home/macdowell/Programs/miniconda3/lib/python3.7/site-packages (0.0)\n",
      "Requirement already satisfied: scikit-learn in /home/macdowell/Programs/miniconda3/lib/python3.7/site-packages (from sklearn) (0.20.3)\n",
      "Requirement already satisfied: scipy>=0.13.3 in /home/macdowell/Programs/miniconda3/lib/python3.7/site-packages (from scikit-learn->sklearn) (1.1.0)\n",
      "Requirement already satisfied: numpy>=1.8.2 in /home/macdowell/Programs/miniconda3/lib/python3.7/site-packages (from scikit-learn->sklearn) (1.16.2)\n",
      "Requirement already satisfied: numpy in /home/macdowell/Programs/miniconda3/lib/python3.7/site-packages (1.16.2)\n",
      "Requirement already satisfied: prince in /home/macdowell/Programs/miniconda3/lib/python3.7/site-packages (0.6.2)\n",
      "Requirement already satisfied: pandas>=0.24.0 in /home/macdowell/Programs/miniconda3/lib/python3.7/site-packages (from prince) (0.24.2)\n",
      "Requirement already satisfied: scipy>=1.1.0 in /home/macdowell/Programs/miniconda3/lib/python3.7/site-packages (from prince) (1.1.0)\n",
      "Requirement already satisfied: matplotlib>=3.0.2 in /home/macdowell/Programs/miniconda3/lib/python3.7/site-packages (from prince) (3.0.2)\n",
      "Requirement already satisfied: scikit-learn>=0.20.1 in /home/macdowell/Programs/miniconda3/lib/python3.7/site-packages (from prince) (0.20.3)\n",
      "Requirement already satisfied: numpy>=1.16.1 in /home/macdowell/Programs/miniconda3/lib/python3.7/site-packages (from prince) (1.16.2)\n",
      "Requirement already satisfied: python-dateutil>=2.5.0 in /home/macdowell/Programs/miniconda3/lib/python3.7/site-packages (from pandas>=0.24.0->prince) (2.7.5)\n",
      "Requirement already satisfied: pytz>=2011k in /home/macdowell/Programs/miniconda3/lib/python3.7/site-packages (from pandas>=0.24.0->prince) (2018.7)\n",
      "Requirement already satisfied: cycler>=0.10 in /home/macdowell/Programs/miniconda3/lib/python3.7/site-packages (from matplotlib>=3.0.2->prince) (0.10.0)\n",
      "Requirement already satisfied: kiwisolver>=1.0.1 in /home/macdowell/Programs/miniconda3/lib/python3.7/site-packages (from matplotlib>=3.0.2->prince) (1.0.1)\n",
      "Requirement already satisfied: pyparsing!=2.0.4,!=2.1.2,!=2.1.6,>=2.0.1 in /home/macdowell/Programs/miniconda3/lib/python3.7/site-packages (from matplotlib>=3.0.2->prince) (2.3.0)\n",
      "Requirement already satisfied: six>=1.5 in /home/macdowell/Programs/miniconda3/lib/python3.7/site-packages (from python-dateutil>=2.5.0->pandas>=0.24.0->prince) (1.11.0)\n",
      "Requirement already satisfied: setuptools in /home/macdowell/Programs/miniconda3/lib/python3.7/site-packages (from kiwisolver>=1.0.1->matplotlib>=3.0.2->prince) (40.2.0)\n"
     ]
    }
   ],
   "source": [
    "!pip install pandas\n",
    "!pip install seaborn\n",
    "!pip install matplotlib\n",
    "!pip install sklearn\n",
    "!pip install numpy"
   ]
  },
  {
   "cell_type": "markdown",
   "metadata": {},
   "source": [
    "After this, some imports:"
   ]
  },
  {
   "cell_type": "code",
   "execution_count": 2,
   "metadata": {},
   "outputs": [],
   "source": [
    "import pandas as pd\n",
    "import seaborn as sns\n",
    "import matplotlib.pyplot as plt\n",
    "import numpy as np\n",
    "import warnings\n",
    "\n",
    "# For ignore warnings' logs:\n",
    "warnings.filterwarnings('ignore')\n",
    "\n",
    "# For a beauty output of dataframe table:\n",
    "from IPython.core.interactiveshell import InteractiveShell\n",
    "InteractiveShell.ast_node_interactivity = \"all\""
   ]
  },
  {
   "cell_type": "markdown",
   "metadata": {},
   "source": [
    "Now let's take a look at our datasets:"
   ]
  },
  {
   "cell_type": "code",
   "execution_count": 3,
   "metadata": {},
   "outputs": [
    {
     "data": {
      "text/html": [
       "<div>\n",
       "<style scoped>\n",
       "    .dataframe tbody tr th:only-of-type {\n",
       "        vertical-align: middle;\n",
       "    }\n",
       "\n",
       "    .dataframe tbody tr th {\n",
       "        vertical-align: top;\n",
       "    }\n",
       "\n",
       "    .dataframe thead th {\n",
       "        text-align: right;\n",
       "    }\n",
       "</style>\n",
       "<table border=\"1\" class=\"dataframe\">\n",
       "  <thead>\n",
       "    <tr style=\"text-align: right;\">\n",
       "      <th></th>\n",
       "      <th>round</th>\n",
       "      <th>date</th>\n",
       "      <th>day_of_week</th>\n",
       "      <th>team_1</th>\n",
       "      <th>team_2</th>\n",
       "      <th>goal_1</th>\n",
       "      <th>goal_2</th>\n",
       "    </tr>\n",
       "  </thead>\n",
       "  <tbody>\n",
       "    <tr>\n",
       "      <th>0</th>\n",
       "      <td>1</td>\n",
       "      <td>29/03/2003</td>\n",
       "      <td>Sábado</td>\n",
       "      <td>Guarani</td>\n",
       "      <td>Vasco</td>\n",
       "      <td>4</td>\n",
       "      <td>2</td>\n",
       "    </tr>\n",
       "    <tr>\n",
       "      <th>1</th>\n",
       "      <td>1</td>\n",
       "      <td>29/03/2003</td>\n",
       "      <td>Sábado</td>\n",
       "      <td>Atlético PR</td>\n",
       "      <td>Grêmio</td>\n",
       "      <td>2</td>\n",
       "      <td>0</td>\n",
       "    </tr>\n",
       "    <tr>\n",
       "      <th>2</th>\n",
       "      <td>1</td>\n",
       "      <td>30/03/2003</td>\n",
       "      <td>Domingo</td>\n",
       "      <td>Flamengo</td>\n",
       "      <td>Coritiba</td>\n",
       "      <td>1</td>\n",
       "      <td>1</td>\n",
       "    </tr>\n",
       "    <tr>\n",
       "      <th>3</th>\n",
       "      <td>1</td>\n",
       "      <td>30/03/2003</td>\n",
       "      <td>Domingo</td>\n",
       "      <td>Goiás</td>\n",
       "      <td>Paysandu</td>\n",
       "      <td>2</td>\n",
       "      <td>2</td>\n",
       "    </tr>\n",
       "    <tr>\n",
       "      <th>4</th>\n",
       "      <td>1</td>\n",
       "      <td>30/03/2003</td>\n",
       "      <td>Domingo</td>\n",
       "      <td>Internacional</td>\n",
       "      <td>Ponte Preta</td>\n",
       "      <td>1</td>\n",
       "      <td>1</td>\n",
       "    </tr>\n",
       "  </tbody>\n",
       "</table>\n",
       "</div>"
      ],
      "text/plain": [
       "   round        date day_of_week         team_1       team_2  goal_1  goal_2\n",
       "0      1  29/03/2003      Sábado        Guarani        Vasco       4       2\n",
       "1      1  29/03/2003      Sábado    Atlético PR       Grêmio       2       0\n",
       "2      1  30/03/2003     Domingo       Flamengo     Coritiba       1       1\n",
       "3      1  30/03/2003     Domingo          Goiás     Paysandu       2       2\n",
       "4      1  30/03/2003     Domingo  Internacional  Ponte Preta       1       1"
      ]
     },
     "execution_count": 3,
     "metadata": {},
     "output_type": "execute_result"
    },
    {
     "data": {
      "text/html": [
       "<div>\n",
       "<style scoped>\n",
       "    .dataframe tbody tr th:only-of-type {\n",
       "        vertical-align: middle;\n",
       "    }\n",
       "\n",
       "    .dataframe tbody tr th {\n",
       "        vertical-align: top;\n",
       "    }\n",
       "\n",
       "    .dataframe thead th {\n",
       "        text-align: right;\n",
       "    }\n",
       "</style>\n",
       "<table border=\"1\" class=\"dataframe\">\n",
       "  <thead>\n",
       "    <tr style=\"text-align: right;\">\n",
       "      <th></th>\n",
       "      <th>round</th>\n",
       "      <th>date</th>\n",
       "      <th>day_of_week</th>\n",
       "      <th>team_1</th>\n",
       "      <th>team_2</th>\n",
       "      <th>goal_1</th>\n",
       "      <th>goal_2</th>\n",
       "    </tr>\n",
       "  </thead>\n",
       "  <tbody>\n",
       "    <tr>\n",
       "      <th>0</th>\n",
       "      <td>1</td>\n",
       "      <td>13/05/2017</td>\n",
       "      <td>Sábado</td>\n",
       "      <td>Flamengo</td>\n",
       "      <td>Atlético</td>\n",
       "      <td>1</td>\n",
       "      <td>1</td>\n",
       "    </tr>\n",
       "    <tr>\n",
       "      <th>1</th>\n",
       "      <td>1</td>\n",
       "      <td>13/05/2017</td>\n",
       "      <td>Sábado</td>\n",
       "      <td>Corinthians</td>\n",
       "      <td>Chapecoense</td>\n",
       "      <td>1</td>\n",
       "      <td>1</td>\n",
       "    </tr>\n",
       "    <tr>\n",
       "      <th>2</th>\n",
       "      <td>1</td>\n",
       "      <td>14/05/2017</td>\n",
       "      <td>Domingo</td>\n",
       "      <td>Fluminense</td>\n",
       "      <td>Santos</td>\n",
       "      <td>3</td>\n",
       "      <td>2</td>\n",
       "    </tr>\n",
       "    <tr>\n",
       "      <th>3</th>\n",
       "      <td>1</td>\n",
       "      <td>14/05/2017</td>\n",
       "      <td>Domingo</td>\n",
       "      <td>Palmeiras</td>\n",
       "      <td>Vasco</td>\n",
       "      <td>4</td>\n",
       "      <td>0</td>\n",
       "    </tr>\n",
       "    <tr>\n",
       "      <th>4</th>\n",
       "      <td>1</td>\n",
       "      <td>14/05/2017</td>\n",
       "      <td>Domingo</td>\n",
       "      <td>Cruzeiro</td>\n",
       "      <td>São Paulo</td>\n",
       "      <td>1</td>\n",
       "      <td>0</td>\n",
       "    </tr>\n",
       "  </tbody>\n",
       "</table>\n",
       "</div>"
      ],
      "text/plain": [
       "   round        date day_of_week       team_1       team_2  goal_1  goal_2\n",
       "0      1  13/05/2017      Sábado     Flamengo     Atlético       1       1\n",
       "1      1  13/05/2017      Sábado  Corinthians  Chapecoense       1       1\n",
       "2      1  14/05/2017     Domingo   Fluminense       Santos       3       2\n",
       "3      1  14/05/2017     Domingo    Palmeiras        Vasco       4       0\n",
       "4      1  14/05/2017     Domingo     Cruzeiro    São Paulo       1       0"
      ]
     },
     "execution_count": 3,
     "metadata": {},
     "output_type": "execute_result"
    }
   ],
   "source": [
    "# Train data is a DataFrame with data from 2003 until 2016\n",
    "train_data = pd.read_csv('datasets/resultados-brasileirao - 2003-2016.csv')\n",
    "# Test data is a DataFrame with data from 2017\n",
    "test_data = pd.read_csv('datasets/resultados-brasileirao - 2017.csv')\n",
    "#Shows the first 5 rows of our DataFrame\n",
    "train_data.head()\n",
    "test_data.head()"
   ]
  },
  {
   "cell_type": "markdown",
   "metadata": {},
   "source": [
    "### Checking team names"
   ]
  },
  {
   "cell_type": "code",
   "execution_count": 49,
   "metadata": {},
   "outputs": [
    {
     "data": {
      "text/plain": [
       "array(['Guarani', 'Atlético PR', 'Flamengo', 'Goiás', 'Internacional',\n",
       "       'Criciúma', 'Juventude', 'Fortaleza', 'Cruzeiro', 'Vitória',\n",
       "       'Santos', 'Corinthians', 'Fluminense', 'Atlético MG', 'Coritiba',\n",
       "       'Grêmio', 'Bahia', 'Figueirense', 'Paysandu', 'Ponte Preta',\n",
       "       'Paraná', 'São Caetano', 'São Paulo', 'Vasco', 'Botafogo',\n",
       "       'Palmeiras', 'VItória', 'Gr', 'Bota', 'Brasiliense', 'Santa Cruz',\n",
       "       'América RN', 'Sport', 'Náutico', 'Ipatinga', 'Portuguesaa',\n",
       "       'Avaí', 'Santo André', 'Barueri', 'Atlético GO', 'Ceará',\n",
       "       'Grêmio Prudente', 'América MG', 'Portuguesa', 'Goías',\n",
       "       'Chapecoense', 'Joinvile', 'Vitória BA'], dtype=object)"
      ]
     },
     "execution_count": 49,
     "metadata": {},
     "output_type": "execute_result"
    },
    {
     "data": {
      "text/plain": [
       "array(['Flamengo', 'Corinthians', 'Fluminense', 'Palmeiras', 'Cruzeiro',\n",
       "       'Bahia', 'Ponte Preta', 'Avaí', 'Grêmio', 'Coritiba', 'Santos',\n",
       "       'Atlético', 'Chapecoense', 'Vasco', 'Vitória', 'Botafogo', 'Sport',\n",
       "       'São Paulo', 'Atlético GO', 'Atlético MG', 'Atlético PR',\n",
       "       'Altético MG', 'Altético PR', 'Altético GO'], dtype=object)"
      ]
     },
     "execution_count": 49,
     "metadata": {},
     "output_type": "execute_result"
    }
   ],
   "source": [
    "# Checking all teams of the dataset\n",
    "train_data.team_1.unique() # unique() method return a list of distinct elements in this column\n",
    "test_data.team_1.unique()"
   ]
  },
  {
   "cell_type": "markdown",
   "metadata": {},
   "source": [
    "The team _Atlético_ is noisy data, because there are 3 categories of Atlético's team. Let's remove:"
   ]
  },
  {
   "cell_type": "code",
   "execution_count": 50,
   "metadata": {},
   "outputs": [
    {
     "data": {
      "text/plain": [
       "array(['Corinthians', 'Fluminense', 'Palmeiras', 'Cruzeiro',\n",
       "       'Ponte Preta', 'Avaí', 'Grêmio', 'Santos', 'Chapecoense', 'Vasco',\n",
       "       'Vitória', 'Botafogo', 'Sport', 'São Paulo', 'Flamengo',\n",
       "       'Coritiba', 'Bahia', 'Altético MG', 'Altético PR', 'Altético GO'],\n",
       "      dtype=object)"
      ]
     },
     "execution_count": 50,
     "metadata": {},
     "output_type": "execute_result"
    }
   ],
   "source": [
    "# Masking by the columns team_1 and team_2 which don't have string 'Atlético':\n",
    "test_data = test_data[~test_data.team_1.str.contains(\"Atlético\")]\n",
    "test_data = test_data[~test_data.team_2.str.contains(\"Atlético\")]\n",
    "\n",
    "test_data.team_1.unique()"
   ]
  },
  {
   "cell_type": "markdown",
   "metadata": {},
   "source": [
    "Done! There isn't team _Atlético_ now."
   ]
  },
  {
   "cell_type": "markdown",
   "metadata": {},
   "source": [
    "## Out of mere curiosity"
   ]
  },
  {
   "cell_type": "markdown",
   "metadata": {},
   "source": [
    "How many different teams played Brasileirão - Séria A since 2003 until 2016?"
   ]
  },
  {
   "cell_type": "code",
   "execution_count": 51,
   "metadata": {},
   "outputs": [
    {
     "data": {
      "text/plain": [
       "48"
      ]
     },
     "execution_count": 51,
     "metadata": {},
     "output_type": "execute_result"
    }
   ],
   "source": [
    "len(train_data.team_1.unique())"
   ]
  },
  {
   "cell_type": "markdown",
   "metadata": {},
   "source": [
    "Now let's see the shape (Rows x Columns) of our dataset:"
   ]
  },
  {
   "cell_type": "code",
   "execution_count": 52,
   "metadata": {},
   "outputs": [
    {
     "data": {
      "text/plain": [
       "(5746, 7)"
      ]
     },
     "execution_count": 52,
     "metadata": {},
     "output_type": "execute_result"
    },
    {
     "data": {
      "text/plain": [
       "(285, 7)"
      ]
     },
     "execution_count": 52,
     "metadata": {},
     "output_type": "execute_result"
    }
   ],
   "source": [
    "train_data.shape\n",
    "test_data.shape"
   ]
  },
  {
   "cell_type": "markdown",
   "metadata": {},
   "source": [
    "_____"
   ]
  },
  {
   "cell_type": "code",
   "execution_count": 53,
   "metadata": {},
   "outputs": [
    {
     "name": "stdout",
     "output_type": "stream",
     "text": [
      "<class 'pandas.core.frame.DataFrame'>\n",
      "RangeIndex: 5746 entries, 0 to 5745\n",
      "Data columns (total 7 columns):\n",
      "round          5746 non-null int64\n",
      "date           5746 non-null object\n",
      "day_of_week    5746 non-null object\n",
      "team_1         5746 non-null object\n",
      "team_2         5746 non-null object\n",
      "goal_1         5746 non-null int64\n",
      "goal_2         5746 non-null int64\n",
      "dtypes: int64(3), object(4)\n",
      "memory usage: 314.3+ KB\n"
     ]
    }
   ],
   "source": [
    "# Check type of columns:\n",
    "train_data.info()"
   ]
  },
  {
   "cell_type": "markdown",
   "metadata": {},
   "source": [
    "Here we can see variable _'date'_ is an object type. Let's convert to type date"
   ]
  },
  {
   "cell_type": "code",
   "execution_count": 54,
   "metadata": {},
   "outputs": [
    {
     "name": "stdout",
     "output_type": "stream",
     "text": [
      "<class 'pandas.core.frame.DataFrame'>\n",
      "RangeIndex: 5746 entries, 0 to 5745\n",
      "Data columns (total 7 columns):\n",
      "round          5746 non-null int64\n",
      "date           5746 non-null datetime64[ns]\n",
      "day_of_week    5746 non-null object\n",
      "team_1         5746 non-null object\n",
      "team_2         5746 non-null object\n",
      "goal_1         5746 non-null int64\n",
      "goal_2         5746 non-null int64\n",
      "dtypes: datetime64[ns](1), int64(3), object(3)\n",
      "memory usage: 314.3+ KB\n"
     ]
    }
   ],
   "source": [
    "train_data['date'] = pd.to_datetime(train_data['date'])\n",
    "test_data['date'] = pd.to_datetime(test_data['date'])\n",
    "\n",
    "\n",
    "# Converting from object to datetime, date operations are faster.\n",
    "train_data.info()"
   ]
  },
  {
   "cell_type": "markdown",
   "metadata": {},
   "source": [
    "### Teams playing home goals X Teams playing out goals"
   ]
  },
  {
   "cell_type": "code",
   "execution_count": 55,
   "metadata": {},
   "outputs": [
    {
     "data": {
      "image/png": "[encoded data removed]",
      "text/plain": [
       "<Figure size 792x576 with 1 Axes>"
      ]
     },
     "metadata": {},
     "output_type": "display_data"
    }
   ],
   "source": [
    "# Set the size of image plot\n",
    "sns.set(rc={'figure.figsize':(11,8)})\n",
    "\n",
    "# Also converting round columns as int\n",
    "train_data['round'] = train_data['round'].astype(int)\n",
    "\n",
    "ax = sns.lineplot(x=\"round\", y=\"goal_1\", data=train_data)\n",
    "bx = sns.lineplot(x=\"round\", y=\"goal_2\", data=train_data)"
   ]
  },
  {
   "cell_type": "markdown",
   "metadata": {},
   "source": [
    "This graphic shows the relation between goals along championship's rounds. __Blue line__ is the amount of goals when teams are playing at your \"home stadium\" and __orange line__ when they are playing at your \"adversary stadium\".\n",
    "\n",
    "We can see that teams playing at \"home\" generally mark more goals than playing \"out\"."
   ]
  },
  {
   "cell_type": "markdown",
   "metadata": {},
   "source": [
    "### __Top 5__: Teams with __most goals__ in Brasileirão (2003 until 2016)"
   ]
  },
  {
   "cell_type": "code",
   "execution_count": 56,
   "metadata": {},
   "outputs": [
    {
     "data": {
      "text/html": [
       "<div>\n",
       "<style scoped>\n",
       "    .dataframe tbody tr th:only-of-type {\n",
       "        vertical-align: middle;\n",
       "    }\n",
       "\n",
       "    .dataframe tbody tr th {\n",
       "        vertical-align: top;\n",
       "    }\n",
       "\n",
       "    .dataframe thead th {\n",
       "        text-align: right;\n",
       "    }\n",
       "</style>\n",
       "<table border=\"1\" class=\"dataframe\">\n",
       "  <thead>\n",
       "    <tr style=\"text-align: right;\">\n",
       "      <th></th>\n",
       "      <th>round</th>\n",
       "      <th>goal_1</th>\n",
       "      <th>goal_2</th>\n",
       "      <th>total_goals</th>\n",
       "    </tr>\n",
       "    <tr>\n",
       "      <th>team_1</th>\n",
       "      <th></th>\n",
       "      <th></th>\n",
       "      <th></th>\n",
       "      <th></th>\n",
       "    </tr>\n",
       "  </thead>\n",
       "  <tbody>\n",
       "    <tr>\n",
       "      <th>Cruzeiro</th>\n",
       "      <td>5586</td>\n",
       "      <td>526</td>\n",
       "      <td>308</td>\n",
       "      <td>834</td>\n",
       "    </tr>\n",
       "    <tr>\n",
       "      <th>Santos</th>\n",
       "      <td>5601</td>\n",
       "      <td>523</td>\n",
       "      <td>263</td>\n",
       "      <td>786</td>\n",
       "    </tr>\n",
       "    <tr>\n",
       "      <th>São Paulo</th>\n",
       "      <td>5710</td>\n",
       "      <td>500</td>\n",
       "      <td>244</td>\n",
       "      <td>744</td>\n",
       "    </tr>\n",
       "    <tr>\n",
       "      <th>Fluminense</th>\n",
       "      <td>5573</td>\n",
       "      <td>439</td>\n",
       "      <td>302</td>\n",
       "      <td>741</td>\n",
       "    </tr>\n",
       "    <tr>\n",
       "      <th>Atlético MG</th>\n",
       "      <td>5250</td>\n",
       "      <td>455</td>\n",
       "      <td>283</td>\n",
       "      <td>738</td>\n",
       "    </tr>\n",
       "  </tbody>\n",
       "</table>\n",
       "</div>"
      ],
      "text/plain": [
       "             round  goal_1  goal_2  total_goals\n",
       "team_1                                         \n",
       "Cruzeiro      5586     526     308          834\n",
       "Santos        5601     523     263          786\n",
       "São Paulo     5710     500     244          744\n",
       "Fluminense    5573     439     302          741\n",
       "Atlético MG   5250     455     283          738"
      ]
     },
     "execution_count": 56,
     "metadata": {},
     "output_type": "execute_result"
    },
    {
     "data": {
      "image/png": "[encoded data removed]",
      "text/plain": [
       "<Figure size 792x576 with 1 Axes>"
      ]
     },
     "metadata": {},
     "output_type": "display_data"
    }
   ],
   "source": [
    "# Grouping our dataframe by team\n",
    "gb_team = train_data.groupby(train_data.team_1).sum()\n",
    "gb_team['total_goals'] = gb_team['goal_1'] + gb_team['goal_2']\n",
    "gb_team = gb_team.sort_values(by='total_goals', ascending=False)\n",
    "gb_team_top5 = gb_team.head()\n",
    "gb_team_top5\n",
    "gb_team_top5['team'] = gb_team_top5.index\n",
    "ax = sns.barplot(x=\"team\", y=\"total_goals\", data=gb_team_top5)"
   ]
  },
  {
   "cell_type": "markdown",
   "metadata": {},
   "source": [
    "### Amount of Goals per Year"
   ]
  },
  {
   "cell_type": "code",
   "execution_count": 57,
   "metadata": {},
   "outputs": [
    {
     "data": {
      "text/html": [
       "<div>\n",
       "<style scoped>\n",
       "    .dataframe tbody tr th:only-of-type {\n",
       "        vertical-align: middle;\n",
       "    }\n",
       "\n",
       "    .dataframe tbody tr th {\n",
       "        vertical-align: top;\n",
       "    }\n",
       "\n",
       "    .dataframe thead th {\n",
       "        text-align: right;\n",
       "    }\n",
       "</style>\n",
       "<table border=\"1\" class=\"dataframe\">\n",
       "  <thead>\n",
       "    <tr style=\"text-align: right;\">\n",
       "      <th></th>\n",
       "      <th>round</th>\n",
       "      <th>goal_1</th>\n",
       "      <th>goal_2</th>\n",
       "      <th>total_goals</th>\n",
       "    </tr>\n",
       "    <tr>\n",
       "      <th>date</th>\n",
       "      <th></th>\n",
       "      <th></th>\n",
       "      <th></th>\n",
       "      <th></th>\n",
       "    </tr>\n",
       "  </thead>\n",
       "  <tbody>\n",
       "    <tr>\n",
       "      <th>2003</th>\n",
       "      <td>12972</td>\n",
       "      <td>982</td>\n",
       "      <td>610</td>\n",
       "      <td>1592</td>\n",
       "    </tr>\n",
       "    <tr>\n",
       "      <th>2004</th>\n",
       "      <td>13010</td>\n",
       "      <td>945</td>\n",
       "      <td>587</td>\n",
       "      <td>1532</td>\n",
       "    </tr>\n",
       "    <tr>\n",
       "      <th>2005</th>\n",
       "      <td>9933</td>\n",
       "      <td>835</td>\n",
       "      <td>617</td>\n",
       "      <td>1452</td>\n",
       "    </tr>\n",
       "    <tr>\n",
       "      <th>2006</th>\n",
       "      <td>7410</td>\n",
       "      <td>604</td>\n",
       "      <td>426</td>\n",
       "      <td>1030</td>\n",
       "    </tr>\n",
       "    <tr>\n",
       "      <th>2007</th>\n",
       "      <td>7410</td>\n",
       "      <td>634</td>\n",
       "      <td>413</td>\n",
       "      <td>1047</td>\n",
       "    </tr>\n",
       "    <tr>\n",
       "      <th>2008</th>\n",
       "      <td>7410</td>\n",
       "      <td>658</td>\n",
       "      <td>377</td>\n",
       "      <td>1035</td>\n",
       "    </tr>\n",
       "    <tr>\n",
       "      <th>2009</th>\n",
       "      <td>7410</td>\n",
       "      <td>659</td>\n",
       "      <td>435</td>\n",
       "      <td>1094</td>\n",
       "    </tr>\n",
       "    <tr>\n",
       "      <th>2010</th>\n",
       "      <td>7410</td>\n",
       "      <td>582</td>\n",
       "      <td>397</td>\n",
       "      <td>979</td>\n",
       "    </tr>\n",
       "    <tr>\n",
       "      <th>2011</th>\n",
       "      <td>7410</td>\n",
       "      <td>610</td>\n",
       "      <td>407</td>\n",
       "      <td>1017</td>\n",
       "    </tr>\n",
       "    <tr>\n",
       "      <th>2012</th>\n",
       "      <td>7410</td>\n",
       "      <td>559</td>\n",
       "      <td>383</td>\n",
       "      <td>942</td>\n",
       "    </tr>\n",
       "    <tr>\n",
       "      <th>2013</th>\n",
       "      <td>7410</td>\n",
       "      <td>558</td>\n",
       "      <td>378</td>\n",
       "      <td>936</td>\n",
       "    </tr>\n",
       "    <tr>\n",
       "      <th>2014</th>\n",
       "      <td>7410</td>\n",
       "      <td>540</td>\n",
       "      <td>320</td>\n",
       "      <td>860</td>\n",
       "    </tr>\n",
       "    <tr>\n",
       "      <th>2015</th>\n",
       "      <td>7410</td>\n",
       "      <td>555</td>\n",
       "      <td>342</td>\n",
       "      <td>897</td>\n",
       "    </tr>\n",
       "    <tr>\n",
       "      <th>2016</th>\n",
       "      <td>7372</td>\n",
       "      <td>564</td>\n",
       "      <td>348</td>\n",
       "      <td>912</td>\n",
       "    </tr>\n",
       "  </tbody>\n",
       "</table>\n",
       "</div>"
      ],
      "text/plain": [
       "      round  goal_1  goal_2  total_goals\n",
       "date                                    \n",
       "2003  12972     982     610         1592\n",
       "2004  13010     945     587         1532\n",
       "2005   9933     835     617         1452\n",
       "2006   7410     604     426         1030\n",
       "2007   7410     634     413         1047\n",
       "2008   7410     658     377         1035\n",
       "2009   7410     659     435         1094\n",
       "2010   7410     582     397          979\n",
       "2011   7410     610     407         1017\n",
       "2012   7410     559     383          942\n",
       "2013   7410     558     378          936\n",
       "2014   7410     540     320          860\n",
       "2015   7410     555     342          897\n",
       "2016   7372     564     348          912"
      ]
     },
     "execution_count": 57,
     "metadata": {},
     "output_type": "execute_result"
    },
    {
     "data": {
      "image/png": "[encoded data removed]",
      "text/plain": [
       "<Figure size 842.4x595.44 with 1 Axes>"
      ]
     },
     "metadata": {},
     "output_type": "display_data"
    }
   ],
   "source": [
    "sns.set(rc={'figure.figsize':(11.7,8.27)})\n",
    "\n",
    "# Grouping our dataframe by year\n",
    "gb_year = train_data.groupby(train_data.date.dt.year).sum()\n",
    "gb_year['total_goals'] = gb_year['goal_1'] + gb_year['goal_2']\n",
    "gb_year\n",
    "gb_year['year'] = gb_year.index\n",
    "ax = sns.barplot(x=\"year\", y=\"total_goals\", data=gb_year)\n"
   ]
  },
  {
   "cell_type": "markdown",
   "metadata": {},
   "source": [
    "This graphic shows us the total amout of goals in the championship by year.\n",
    "\n",
    "We note that 2003, 2004, 2005 have much more goals, but in these years the Brasileirãp Championship had much more rounds.\n",
    "______"
   ]
  },
  {
   "cell_type": "markdown",
   "metadata": {},
   "source": [
    "### Missing data\n",
    "Now it's okay. Let's, checking how many missing data we have:"
   ]
  },
  {
   "cell_type": "code",
   "execution_count": 58,
   "metadata": {},
   "outputs": [
    {
     "data": {
      "text/plain": [
       "round          0\n",
       "date           0\n",
       "day_of_week    0\n",
       "team_1         0\n",
       "team_2         0\n",
       "goal_1         0\n",
       "goal_2         0\n",
       "dtype: int64"
      ]
     },
     "execution_count": 58,
     "metadata": {},
     "output_type": "execute_result"
    },
    {
     "data": {
      "text/plain": [
       "round          0\n",
       "date           0\n",
       "day_of_week    0\n",
       "team_1         0\n",
       "team_2         0\n",
       "goal_1         0\n",
       "goal_2         0\n",
       "dtype: int64"
      ]
     },
     "execution_count": 58,
     "metadata": {},
     "output_type": "execute_result"
    }
   ],
   "source": [
    "train_data.isnull().sum()\n",
    "test_data.isnull().sum()"
   ]
  },
  {
   "cell_type": "markdown",
   "metadata": {},
   "source": [
    "As we can see, there's not missing data. Good!"
   ]
  },
  {
   "cell_type": "markdown",
   "metadata": {},
   "source": [
    "___\n",
    "## Dealing with categorical features"
   ]
  },
  {
   "cell_type": "markdown",
   "metadata": {},
   "source": [
    "In this section, I want to attack a classic problem for ML: __Deal with categorical features on dataset__.\n",
    "\n",
    "Categorical data are common problems in many Data Science and Machine Learning approaches but are usually more challenging to deal with than numerical data. In particular, many machine learning algorithms require that their input is numerical and therefore categorical features must be transformed into numerical features before we can use any of these algorithms.\n",
    "\n",
    "Therefore, I will create a few datasets with encoded categorical variables. There are a lot of techniques to encode this data, but I'm going to use:\n",
    "\n",
    "- [__One-Hot Encoding__](http://contrib.scikit-learn.org/categorical-encoding/onehot.html): one column per category, with a 1 or 0 in each cell for if the row contained that column’s category\n",
    "- [__Binary Encoding__](http://contrib.scikit-learn.org/categorical-encoding/binary.html): first the categories are encoded as ordinal, then those integers are converted into binary code, then the digits from that binary string are split into separate columns. This encodes the data in fewer dimensions that one-hot, but with some distortion of the distances.\n",
    "- [__Backward Difference__](http://contrib.scikit-learn.org/categorical-encoding/backward_difference.html): the mean of the dependent variable for a level is compared with the mean of the dependent variable for the prior level. This type of coding may be useful for a nominal or an ordinal variable.\n",
    "\n",
    "With these three encoding techniques, I will test all outputted datasets with some different models to evaluate what encoding technique better perfomed in our data.\n",
    "\n",
    "_Note: For this activity, used [Category Encoders](http://contrib.scikit-learn.org/categorical-encoding/index.html), a python package._"
   ]
  },
  {
   "cell_type": "markdown",
   "metadata": {},
   "source": [
    "___\n",
    "Before encode our dataset, I want to extract more value as possible from the date feature: _data_. Have two approaches which make sense for us, extracting them from datetime feature:\n",
    "- Day of the week\n",
    "- Day of the year\n",
    "\n",
    "However, we already got day of the week as a original column. Let's get the day of the year as a column."
   ]
  },
  {
   "cell_type": "code",
   "execution_count": 59,
   "metadata": {},
   "outputs": [
    {
     "data": {
      "text/plain": [
       "OneHotEncoder(cols=['day_of_week', 'team_1', 'team_2'], drop_invariant=True,\n",
       "       handle_unknown='impute', impute_missing=True, return_df=True,\n",
       "       use_cat_names=True, verbose=0)"
      ]
     },
     "execution_count": 59,
     "metadata": {},
     "output_type": "execute_result"
    },
    {
     "data": {
      "text/plain": [
       "BinaryEncoder(cols=['day_of_week', 'team_1', 'team_2'], drop_invariant=True,\n",
       "       handle_unknown='impute', impute_missing=True, return_df=True,\n",
       "       verbose=0)"
      ]
     },
     "execution_count": 59,
     "metadata": {},
     "output_type": "execute_result"
    },
    {
     "data": {
      "text/plain": [
       "BackwardDifferenceEncoder(cols=['day_of_week', 'team_1', 'team_2'],\n",
       "             drop_invariant=False, handle_unknown='impute',\n",
       "             impute_missing=True,\n",
       "             mapping=[{'col': 'day_of_week', 'mapping':       [D.1]     [D.2]     [D.3]     [D.4]     [D.5]     [D.6]\n",
       "1 -0.857143 -0.714286 -0.571429 -0.428571 -0.285714 -0.142857\n",
       "2  0.142857 -0.714286 -0.571429 -0.428571 -0.285714 -0.142857\n",
       "3  0.142857  0.285714 -0.571429 -0.428571 -0.285714 -0.142857\n",
       "4  0.1428....979592\n",
       "0   0.000000  0.000000  0.000000  0.000000  0.000000  0.000000\n",
       "\n",
       "[50 rows x 48 columns]}],\n",
       "             return_df=True, verbose=0)"
      ]
     },
     "execution_count": 59,
     "metadata": {},
     "output_type": "execute_result"
    }
   ],
   "source": [
    "# I'm going to create a new column called 'day_of_year' representing \n",
    "# a ordinal number of the day in that year.\n",
    "\n",
    "train_data['day_of_year'] = train_data['date'].dt.dayofyear\n",
    "train_data = train_data.drop(columns=['date'], axis=1)\n",
    "\n",
    "test_data['day_of_year'] = test_data['date'].dt.dayofyear\n",
    "test_data = test_data.drop(columns=['date'], axis=1)\n",
    "\n",
    "## Lets start to encode our categorical variables:\n",
    "\n",
    "# First we have to separate our training data from our target data (X, y):\n",
    "\n",
    "X_train = train_data[['round', 'day_of_week', 'team_1', 'team_2', 'day_of_year']].copy()\n",
    "y_train = train_data[['goal_1', 'goal_2']].copy()\n",
    "\n",
    "X_test = test_data[['round', 'day_of_week', 'team_1', 'team_2', 'day_of_year']].copy()\n",
    "y_test = test_data[['goal_1', 'goal_2']].copy()\n",
    "\n",
    "import category_encoders as ce\n",
    "cols = ['day_of_week', 'team_1', 'team_2']\n",
    "one_hot_encoder = ce.OneHotEncoder(cols=cols, drop_invariant=True, use_cat_names=True)\n",
    "binary_encoder = ce.BinaryEncoder(cols=cols, drop_invariant=True)\n",
    "backward_encoder = ce.BackwardDifferenceEncoder(cols=cols)\n",
    "\n",
    "# Fiting our encoders to the columns we told:\n",
    "one_hot_encoder.fit(X_train)\n",
    "binary_encoder.fit(X_train)\n",
    "backward_encoder.fit(X_train)\n",
    "\n",
    "# Encoding our dataset:\n",
    "X_train_hot_encoded = one_hot_encoder.transform(X_train)\n",
    "X_train_binary_encoded = binary_encoder.transform(X_train)\n",
    "X_train_backward_encoded = backward_encoder.transform(X_train)\n",
    "\n",
    "X_test_hot_encoded = one_hot_encoder.transform(X_test)\n",
    "X_test_binary_encoded = binary_encoder.transform(X_test)\n",
    "X_test_backward_encoded = backward_encoder.transform(X_test)\n",
    "\n",
    "#Dropping intercept column\n",
    "X_test_backward_encoded = X_test_backward_encoded.drop('intercept', axis=1)\n",
    "X_train_backward_encoded = X_train_backward_encoded.drop('intercept', axis=1)\n",
    "\n",
    "# Suffling the datset's rows:\n",
    "from sklearn.utils import shuffle\n",
    "X_train_hot_encoded, X_train_binary_encoded, X_train_backward_encoded = shuffle(X_train_hot_encoded, X_train_binary_encoded, X_train_backward_encoded, random_state=0)\n",
    "X_test_hot_encoded, X_test_binary_encoded, X_test_backward_encoded = shuffle(X_test_hot_encoded, X_test_binary_encoded, X_test_backward_encoded, random_state=1)\n",
    "\n",
    "encoding_names = ['One Hot', 'Binary', 'Backward Difference']\n",
    "train_datasets_list = [X_train_hot_encoded, X_train_binary_encoded, X_train_backward_encoded]\n",
    "test_datasets_list = [X_test_hot_encoded, X_test_binary_encoded, X_test_backward_encoded]"
   ]
  },
  {
   "cell_type": "markdown",
   "metadata": {},
   "source": [
    "### Analyzing dimension of categorical encoders\n",
    "\n",
    "Before put the hands on the models and metrics, I want to analyze __how many columns__ each encoding have created to our features."
   ]
  },
  {
   "cell_type": "code",
   "execution_count": 60,
   "metadata": {},
   "outputs": [
    {
     "data": {
      "text/plain": [
       "(285, 106)"
      ]
     },
     "execution_count": 60,
     "metadata": {},
     "output_type": "execute_result"
    },
    {
     "data": {
      "text/plain": [
       "(285, 17)"
      ]
     },
     "execution_count": 60,
     "metadata": {},
     "output_type": "execute_result"
    },
    {
     "data": {
      "text/plain": [
       "(285, 103)"
      ]
     },
     "execution_count": 60,
     "metadata": {},
     "output_type": "execute_result"
    }
   ],
   "source": [
    "X_test_hot_encoded.shape\n",
    "X_test_binary_encoded.shape\n",
    "X_test_backward_encoded.shape"
   ]
  },
  {
   "cell_type": "markdown",
   "metadata": {},
   "source": [
    "- One hot encoding: 106 columns\n",
    "- Binary encoding: 17 columns\n",
    "- Backward encoding: 104 columns\n",
    "\n",
    "Binary incredibly leave our dataset with 17 columns. Impressive difference to the others, let's check the efficiency.\n",
    "___"
   ]
  },
  {
   "cell_type": "markdown",
   "metadata": {},
   "source": [
    "## Taking a look at the models"
   ]
  },
  {
   "cell_type": "markdown",
   "metadata": {},
   "source": [
    "It is always hard choosing a model, because isn't always predictable how it's going to perform. I will try to be more general as possible about the kind of ML models to evaluate.\n",
    "\n",
    "To choose the models to evaluate, I'm following the methodology below:\n",
    "    - Select some supervized models (based on scikit-learn API);\n",
    "    - Select distributed model categories (Ensemble methods, Linear models, Tree models, etc);\n",
    "    - Tuning the hyper-parameters with Exhaustive Grid Search technique.\n",
    "And of course, to evaluate model's score I'm going to use [_regression metrics_](https://scikit-learn.org/stable/modules/classes.html#regression-metrics), and wont use Cross Validation techniques because our train (2003-2016 year matches results) and test (2017 year matches results) models are already defined:\n",
    "    - Mean squared error (MSE): it represents the sample standard deviation of the differences between predicted values and observed values;\n",
    "    \n",
    "    - Mean absolute error (MAE): is the average of the absolute difference between the predicted values and observed value;\n",
    "    \n",
    "    - R2 and Adjusted R2: are often used for explanatory purposes and explains how well your selected independent variable(s) explain the variability in your dependent variable(s).\n",
    "_Note_: The last metrics (R2 and Adjusted R2) were based and used with the implementation (below) of this [article](https://medium.com/usf-msds/choosing-the-right-metric-for-machine-learning-models-part-1-a99d7d7414e4)."
   ]
  },
  {
   "cell_type": "code",
   "execution_count": 61,
   "metadata": {},
   "outputs": [],
   "source": [
    "def R2_scores(X, y, yhat): # Following citted article's implementation\n",
    "    #yhat = m.predict(X)\n",
    "    SS_Residual = sum((y-yhat)**2)\n",
    "    SS_Total = sum((y-np.mean(y))**2)\n",
    "    aux = np.true_divide(SS_Residual, SS_Total)\n",
    "    r_squared = 1 - aux\n",
    "    adj_r_squared = 1 - (1-r_squared)*(len(y)-1)/(len(y)-X.shape[1]-1)\n",
    "    return r_squared, adj_r_squared\n",
    "\n",
    "from sklearn.metrics import mean_squared_error\n",
    "from sklearn.metrics import mean_absolute_error"
   ]
  },
  {
   "cell_type": "markdown",
   "metadata": {},
   "source": [
    "___\n",
    "### Train and Test some models:"
   ]
  },
  {
   "cell_type": "markdown",
   "metadata": {},
   "source": [
    "### Linear Regression"
   ]
  },
  {
   "cell_type": "code",
   "execution_count": 62,
   "metadata": {},
   "outputs": [
    {
     "data": {
      "text/plain": [
       "LinearRegression(copy_X=True, fit_intercept=True, n_jobs=None,\n",
       "         normalize=False)"
      ]
     },
     "execution_count": 62,
     "metadata": {},
     "output_type": "execute_result"
    },
    {
     "data": {
      "text/plain": [
       "LinearRegression(copy_X=True, fit_intercept=True, n_jobs=None,\n",
       "         normalize=False)"
      ]
     },
     "execution_count": 62,
     "metadata": {},
     "output_type": "execute_result"
    },
    {
     "data": {
      "text/plain": [
       "LinearRegression(copy_X=True, fit_intercept=True, n_jobs=None,\n",
       "         normalize=False)"
      ]
     },
     "execution_count": 62,
     "metadata": {},
     "output_type": "execute_result"
    },
    {
     "name": "stdout",
     "output_type": "stream",
     "text": [
      "One Hoting encode:  {'mean_absolute_error': 0.8665058994670576, 'r2': array([-0.01698977,  0.02864947]), 'adjusted_r2': array([-0.62261289, -0.54979523]), 'mean_squared_error': 1.1621789366721993}\n",
      "\n",
      "Binary Encoding:  {'mean_absolute_error': 0.8549778206125882, 'r2': array([-0.00729332,  0.0333793 ]), 'adjusted_r2': array([-0.07142811, -0.02816584]), 'mean_squared_error': 1.1536532283735048}\n",
      "\n",
      "Backward Difference:  {'mean_absolute_error': 0.8665058994670585, 'r2': array([-0.01698977,  0.02864947]), 'adjusted_r2': array([-0.59571876, -0.52410801]), 'mean_squared_error': 1.162178936672199}\n"
     ]
    }
   ],
   "source": [
    "from sklearn.linear_model import LinearRegression\n",
    "scores = {}\n",
    "\n",
    "\n",
    "for i in range(len(train_datasets_list)):\n",
    "    scores[encoding_names[i]] = {'r2': -999}\n",
    "    scores[encoding_names[i]] = {'adjusted_r2': -999}\n",
    "    scores[encoding_names[i]] = {'mean_squared_error': -999}\n",
    "    scores[encoding_names[i]] = {'mean_absolute_error': -999}\n",
    "    X_train, X_test = train_datasets_list[i], test_datasets_list[i]\n",
    "\n",
    "    classifier = LinearRegression()\n",
    "    # Fitting the model\n",
    "    classifier.fit(X_train, y_train)\n",
    "    # Predicting score matches of 2017\n",
    "    predicteds = classifier.predict(X_test)\n",
    "    \n",
    "    r2_scores = R2_scores(X_test, y_test.values, predicteds)\n",
    "    scores[encoding_names[i]]['r2'] = r2_scores[0]\n",
    "    scores[encoding_names[i]]['adjusted_r2'] = r2_scores[1]\n",
    "    scores[encoding_names[i]]['mean_squared_error'] = mean_squared_error(y_test, predicteds)\n",
    "    scores[encoding_names[i]]['mean_absolute_error'] = mean_absolute_error(y_test, predicteds)\n",
    "\n",
    "print('One Hoting encode: ', scores['One Hot'])\n",
    "print()\n",
    "print('Binary Encoding: ', scores['Binary'])\n",
    "print()\n",
    "print('Backward Difference: ', scores['Backward Difference'])"
   ]
  },
  {
   "cell_type": "markdown",
   "metadata": {},
   "source": [
    "### Kernel Ridge"
   ]
  },
  {
   "cell_type": "code",
   "execution_count": 63,
   "metadata": {},
   "outputs": [
    {
     "data": {
      "text/plain": [
       "KernelRidge(alpha=1.0, coef0=1, degree=3, gamma=None, kernel='linear',\n",
       "      kernel_params=None)"
      ]
     },
     "execution_count": 63,
     "metadata": {},
     "output_type": "execute_result"
    },
    {
     "data": {
      "text/plain": [
       "KernelRidge(alpha=1.0, coef0=1, degree=3, gamma=None, kernel='linear',\n",
       "      kernel_params=None)"
      ]
     },
     "execution_count": 63,
     "metadata": {},
     "output_type": "execute_result"
    },
    {
     "data": {
      "text/plain": [
       "KernelRidge(alpha=1.0, coef0=1, degree=3, gamma=None, kernel='linear',\n",
       "      kernel_params=None)"
      ]
     },
     "execution_count": 63,
     "metadata": {},
     "output_type": "execute_result"
    },
    {
     "name": "stdout",
     "output_type": "stream",
     "text": [
      "One Hoting encode:  {'mean_absolute_error': 0.864105308931469, 'r2': array([-0.01003731,  0.0268691 ]), 'adjusted_r2': array([-0.61152021, -0.55263582]), 'mean_squared_error': 1.1589819403609265}\n",
      "\n",
      "Binary Encoding:  {'mean_absolute_error': 0.8743613445587821, 'r2': array([-0.06734414,  0.00982695]), 'adjusted_r2': array([-0.13530238, -0.05321778]), 'mean_squared_error': 1.2032172152914125}\n",
      "\n",
      "Backward Difference:  {'mean_absolute_error': 0.9351642398393953, 'r2': array([-0.26489012, -0.10565401]), 'adjusted_r2': array([-0.98468947, -0.73483834]), 'mean_squared_error': 1.3876924096476704}\n"
     ]
    }
   ],
   "source": [
    "# Importing all machine learning models that I'm going to use:\n",
    "from sklearn.kernel_ridge import KernelRidge\n",
    "\n",
    "scores = {}\n",
    "\n",
    "for i in range(len(train_datasets_list)):\n",
    "    scores[encoding_names[i]] = {'r2': -999}\n",
    "    scores[encoding_names[i]] = {'adjusted_r2': -999}\n",
    "    scores[encoding_names[i]] = {'mean_squared_error': -999}\n",
    "    scores[encoding_names[i]] = {'mean_absolute_error': -999}\n",
    "    X_train, X_test = train_datasets_list[i], test_datasets_list[i]\n",
    "    \n",
    "    classifier = KernelRidge(alpha=1.0)\n",
    "    # Fitting the model\n",
    "    classifier.fit(X_train, y_train)\n",
    "    # Predicting score matches of 2017\n",
    "    predicteds = classifier.predict(X_test)\n",
    "    \n",
    "    r2_scores = R2_scores(X_test, y_test.values, predicteds)\n",
    "    \n",
    "    scores[encoding_names[i]]['r2'] = r2_scores[0]\n",
    "    scores[encoding_names[i]]['adjusted_r2'] = r2_scores[1]\n",
    "    scores[encoding_names[i]]['mean_squared_error'] = mean_squared_error(y_test, predicteds)\n",
    "    scores[encoding_names[i]]['mean_absolute_error'] = mean_absolute_error(y_test, predicteds)\n",
    "    \n",
    "print('One Hoting encode: ', scores['One Hot'])\n",
    "print()\n",
    "print('Binary Encoding: ', scores['Binary'])\n",
    "print()\n",
    "print('Backward Difference: ', scores['Backward Difference'])"
   ]
  },
  {
   "cell_type": "markdown",
   "metadata": {},
   "source": [
    "### K Neighbors Regressor"
   ]
  },
  {
   "cell_type": "code",
   "execution_count": 64,
   "metadata": {},
   "outputs": [
    {
     "data": {
      "text/plain": [
       "KNeighborsRegressor(algorithm='auto', leaf_size=30, metric='minkowski',\n",
       "          metric_params=None, n_jobs=None, n_neighbors=20, p=2,\n",
       "          weights='uniform')"
      ]
     },
     "execution_count": 64,
     "metadata": {},
     "output_type": "execute_result"
    },
    {
     "data": {
      "text/plain": [
       "KNeighborsRegressor(algorithm='auto', leaf_size=30, metric='minkowski',\n",
       "          metric_params=None, n_jobs=None, n_neighbors=20, p=2,\n",
       "          weights='uniform')"
      ]
     },
     "execution_count": 64,
     "metadata": {},
     "output_type": "execute_result"
    },
    {
     "data": {
      "text/plain": [
       "KNeighborsRegressor(algorithm='auto', leaf_size=30, metric='minkowski',\n",
       "          metric_params=None, n_jobs=None, n_neighbors=20, p=2,\n",
       "          weights='uniform')"
      ]
     },
     "execution_count": 64,
     "metadata": {},
     "output_type": "execute_result"
    },
    {
     "name": "stdout",
     "output_type": "stream",
     "text": [
      "One Hoting encode:  {'mean_absolute_error': 0.8945614035087722, 'r2': array([-0.1012233 , -0.00790207]), 'adjusted_r2': array([-0.75700797, -0.60811342]), 'mean_squared_error': 1.2336842105263164}\n",
      "\n",
      "Binary Encoding:  {'mean_absolute_error': 0.8899122807017543, 'r2': array([-0.10078777,  0.00568732]), 'adjusted_r2': array([-0.17087539, -0.05762097]), 'mean_squared_error': 1.2257587719298249}\n",
      "\n",
      "Backward Difference:  {'mean_absolute_error': 0.8960526315789472, 'r2': array([-0.10310334, -0.01985016]), 'adjusted_r2': array([-0.73083618, -0.60020688]), 'mean_squared_error': 1.2415570175438586}\n"
     ]
    }
   ],
   "source": [
    "from sklearn.neighbors import KNeighborsRegressor\n",
    "scores = {}\n",
    "\n",
    "for i in range(len(train_datasets_list)):\n",
    "    scores[encoding_names[i]] = {'r2': -999}\n",
    "    scores[encoding_names[i]] = {'adjusted_r2': -999}\n",
    "    scores[encoding_names[i]] = {'mean_squared_error': -999}\n",
    "    scores[encoding_names[i]] = {'mean_absolute_error': -999}\n",
    "    X_train, X_test = train_datasets_list[i], test_datasets_list[i]\n",
    "    \n",
    "    classifier = KNeighborsRegressor(n_neighbors=20)\n",
    "    # Fitting the model\n",
    "    classifier.fit(X_train, y_train)\n",
    "    # Predicting score matches of 2017\n",
    "    predicteds = classifier.predict(X_test)\n",
    "    \n",
    "    r2_scores = R2_scores(X_test, y_test.values, predicteds)\n",
    "    scores[encoding_names[i]]['r2'] = r2_scores[0]\n",
    "    scores[encoding_names[i]]['adjusted_r2'] = r2_scores[1]\n",
    "    scores[encoding_names[i]]['mean_squared_error'] = mean_squared_error(y_test, predicteds)\n",
    "    scores[encoding_names[i]]['mean_absolute_error'] = mean_absolute_error(y_test, predicteds)\n",
    "\n",
    "print('One Hoting encode: ', scores['One Hot'])\n",
    "print()\n",
    "print('Binary Encoding: ', scores['Binary'])\n",
    "print()\n",
    "print('Backward Difference: ', scores['Backward Difference'])"
   ]
  },
  {
   "cell_type": "markdown",
   "metadata": {},
   "source": [
    "### Decision Tree Regressor"
   ]
  },
  {
   "cell_type": "code",
   "execution_count": 65,
   "metadata": {},
   "outputs": [
    {
     "data": {
      "text/plain": [
       "DecisionTreeRegressor(criterion='mse', max_depth=5, max_features=None,\n",
       "           max_leaf_nodes=None, min_impurity_decrease=0.0,\n",
       "           min_impurity_split=None, min_samples_leaf=1,\n",
       "           min_samples_split=2, min_weight_fraction_leaf=0.0,\n",
       "           presort=False, random_state=None, splitter='best')"
      ]
     },
     "execution_count": 65,
     "metadata": {},
     "output_type": "execute_result"
    },
    {
     "data": {
      "text/plain": [
       "DecisionTreeRegressor(criterion='mse', max_depth=5, max_features=None,\n",
       "           max_leaf_nodes=None, min_impurity_decrease=0.0,\n",
       "           min_impurity_split=None, min_samples_leaf=1,\n",
       "           min_samples_split=2, min_weight_fraction_leaf=0.0,\n",
       "           presort=False, random_state=None, splitter='best')"
      ]
     },
     "execution_count": 65,
     "metadata": {},
     "output_type": "execute_result"
    },
    {
     "data": {
      "text/plain": [
       "DecisionTreeRegressor(criterion='mse', max_depth=5, max_features=None,\n",
       "           max_leaf_nodes=None, min_impurity_decrease=0.0,\n",
       "           min_impurity_split=None, min_samples_leaf=1,\n",
       "           min_samples_split=2, min_weight_fraction_leaf=0.0,\n",
       "           presort=False, random_state=None, splitter='best')"
      ]
     },
     "execution_count": 65,
     "metadata": {},
     "output_type": "execute_result"
    },
    {
     "name": "stdout",
     "output_type": "stream",
     "text": [
      "One Hoting encode:  {'mean_absolute_error': 0.885878947592162, 'r2': array([-0.14516971, -0.10124489]), 'adjusted_r2': array([-0.8271247 , -0.75704241]), 'mean_squared_error': 1.312868367633238}\n",
      "\n",
      "Binary Encoding:  {'mean_absolute_error': 0.8699298139335812, 'r2': array([-0.03803856,  0.02808315]), 'adjusted_r2': array([-0.1041309, -0.0337992]), 'mean_squared_error': 1.175216443912341}\n",
      "\n",
      "Backward Difference:  {'mean_absolute_error': 0.8793525718213568, 'r2': array([-0.0591947 ,  0.00388539]), 'adjusted_r2': array([-0.66194086, -0.56296436]), 'mean_squared_error': 1.2016432283944476}\n"
     ]
    }
   ],
   "source": [
    "from sklearn.tree import DecisionTreeRegressor\n",
    "\n",
    "scores = {}\n",
    "\n",
    "for i in range(len(train_datasets_list)):\n",
    "    scores[encoding_names[i]] = {'r2': -999}\n",
    "    scores[encoding_names[i]] = {'adjusted_r2': -999}\n",
    "    scores[encoding_names[i]] = {'mean_squared_error': -999}\n",
    "    scores[encoding_names[i]] = {'mean_absolute_error': -999}\n",
    "    X_train, X_test = train_datasets_list[i], test_datasets_list[i]\n",
    "    \n",
    "    classifier = DecisionTreeRegressor(max_depth=5)\n",
    "    # Fitting the model\n",
    "    classifier.fit(X_train, y_train)\n",
    "    # Predicting score matches of 2017\n",
    "    predicteds = classifier.predict(X_test)\n",
    "    \n",
    "    r2_scores = R2_scores(X_test, y_test.values, predicteds)\n",
    "    scores[encoding_names[i]]['r2'] = r2_scores[0]\n",
    "    scores[encoding_names[i]]['adjusted_r2'] = r2_scores[1]\n",
    "    scores[encoding_names[i]]['mean_squared_error'] = mean_squared_error(y_test, predicteds)\n",
    "    scores[encoding_names[i]]['mean_absolute_error'] = mean_absolute_error(y_test, predicteds)\n",
    "\n",
    "print('One Hoting encode: ', scores['One Hot'])\n",
    "print()\n",
    "print('Binary Encoding: ', scores['Binary'])\n",
    "print()\n",
    "print('Backward Difference: ', scores['Backward Difference'])"
   ]
  },
  {
   "cell_type": "markdown",
   "metadata": {},
   "source": [
    "### Gradient Boosting"
   ]
  },
  {
   "cell_type": "code",
   "execution_count": 66,
   "metadata": {},
   "outputs": [
    {
     "name": "stdout",
     "output_type": "stream",
     "text": [
      "One Hoting encode:  {'mean_absolute_error': 0.8808701622203408, 'r2': array([-0.03781284, -0.05766541]), 'adjusted_r2': array([-0.65583621, -0.6875111 ]), 'mean_squared_error': 1.22342875716745}\n",
      "\n",
      "Binary Encoding:  {'mean_absolute_error': 0.9007059880909533, 'r2': array([-0.09817295, -0.02437462]), 'adjusted_r2': array([-0.16809407, -0.08959697]), 'mean_squared_error': 1.2411290353648028}\n",
      "\n",
      "Backward Difference:  {'mean_absolute_error': 0.8784447244956604, 'r2': array([-0.02869624, -0.01490436]), 'adjusted_r2': array([-0.61408692, -0.59244661]), 'mean_squared_error': 1.1938097778793288}\n"
     ]
    }
   ],
   "source": [
    "from sklearn.ensemble import GradientBoostingRegressor\n",
    "from sklearn.multioutput import MultiOutputRegressor\n",
    "\n",
    "scores = {}\n",
    "\n",
    "for i in range(len(train_datasets_list)):\n",
    "    scores[encoding_names[i]] = {'r2': -999}\n",
    "    scores[encoding_names[i]] = {'adjusted_r2': -999}\n",
    "    scores[encoding_names[i]] = {'mean_squared_error': -999}\n",
    "    scores[encoding_names[i]] = {'mean_absolute_error': -999}\n",
    "    X_train, X_test = train_datasets_list[i], test_datasets_list[i]\n",
    "    \n",
    "    classifier = MultiOutputRegressor(GradientBoostingRegressor(max_depth=5)).fit(X_train, y_train)\n",
    "\n",
    "    # Predicting score matches of 2017\n",
    "    predicteds = classifier.predict(X_test)\n",
    "    \n",
    "    r2_scores = R2_scores(X_test, y_test.values, predicteds)\n",
    "    scores[encoding_names[i]]['r2'] = r2_scores[0]\n",
    "    scores[encoding_names[i]]['adjusted_r2'] = r2_scores[1]\n",
    "    scores[encoding_names[i]]['mean_squared_error'] = mean_squared_error(y_test, predicteds)\n",
    "    scores[encoding_names[i]]['mean_absolute_error'] = mean_absolute_error(y_test, predicteds)\n",
    "\n",
    "print('One Hoting encode: ', scores['One Hot'])\n",
    "print()\n",
    "print('Binary Encoding: ', scores['Binary'])\n",
    "print()\n",
    "print('Backward Difference: ', scores['Backward Difference'])"
   ]
  },
  {
   "cell_type": "markdown",
   "metadata": {},
   "source": [
    "### MLP Regressor"
   ]
  },
  {
   "cell_type": "code",
   "execution_count": 67,
   "metadata": {},
   "outputs": [
    {
     "data": {
      "text/plain": [
       "MLPRegressor(activation='relu', alpha=0.0001, batch_size='auto', beta_1=0.9,\n",
       "       beta_2=0.999, early_stopping=False, epsilon=1e-08,\n",
       "       hidden_layer_sizes=(100,), learning_rate='constant',\n",
       "       learning_rate_init=0.001, max_iter=200, momentum=0.9,\n",
       "       n_iter_no_change=10, nesterovs_momentum=True, power_t=0.5,\n",
       "       random_state=None, shuffle=True, solver='adam', tol=0.0001,\n",
       "       validation_fraction=0.1, verbose=False, warm_start=False)"
      ]
     },
     "execution_count": 67,
     "metadata": {},
     "output_type": "execute_result"
    },
    {
     "data": {
      "text/plain": [
       "MLPRegressor(activation='relu', alpha=0.0001, batch_size='auto', beta_1=0.9,\n",
       "       beta_2=0.999, early_stopping=False, epsilon=1e-08,\n",
       "       hidden_layer_sizes=(100,), learning_rate='constant',\n",
       "       learning_rate_init=0.001, max_iter=200, momentum=0.9,\n",
       "       n_iter_no_change=10, nesterovs_momentum=True, power_t=0.5,\n",
       "       random_state=None, shuffle=True, solver='adam', tol=0.0001,\n",
       "       validation_fraction=0.1, verbose=False, warm_start=False)"
      ]
     },
     "execution_count": 67,
     "metadata": {},
     "output_type": "execute_result"
    },
    {
     "data": {
      "text/plain": [
       "MLPRegressor(activation='relu', alpha=0.0001, batch_size='auto', beta_1=0.9,\n",
       "       beta_2=0.999, early_stopping=False, epsilon=1e-08,\n",
       "       hidden_layer_sizes=(100,), learning_rate='constant',\n",
       "       learning_rate_init=0.001, max_iter=200, momentum=0.9,\n",
       "       n_iter_no_change=10, nesterovs_momentum=True, power_t=0.5,\n",
       "       random_state=None, shuffle=True, solver='adam', tol=0.0001,\n",
       "       validation_fraction=0.1, verbose=False, warm_start=False)"
      ]
     },
     "execution_count": 67,
     "metadata": {},
     "output_type": "execute_result"
    },
    {
     "name": "stdout",
     "output_type": "stream",
     "text": [
      "One Hoting encode:  {'mean_absolute_error': 0.9136833409823252, 'r2': array([-0.05242749, -0.03679811]), 'adjusted_r2': array([-0.67915397, -0.6542172 ]), 'mean_squared_error': 1.2204934072242535}\n",
      "\n",
      "Binary Encoding:  {'mean_absolute_error': 0.846750057237824, 'r2': array([-0.00285809,  0.02867561]), 'adjusted_r2': array([-0.06671048, -0.03316901]), 'mean_squared_error': 1.1536254897799654}\n",
      "\n",
      "Backward Difference:  {'mean_absolute_error': 0.885242730018903, 'r2': array([-0.04875683, -0.02714831]), 'adjusted_r2': array([-0.6455632 , -0.61165812]), 'mean_squared_error': 1.2128345381592838}\n"
     ]
    }
   ],
   "source": [
    "from sklearn.neural_network import MLPRegressor\n",
    "\n",
    "scores = {}\n",
    "\n",
    "for i in range(len(train_datasets_list)):\n",
    "    scores[encoding_names[i]] = {'r2': -999}\n",
    "    scores[encoding_names[i]] = {'adjusted_r2': -999}\n",
    "    scores[encoding_names[i]] = {'mean_squared_error': -999}\n",
    "    scores[encoding_names[i]] = {'mean_absolute_error': -999}\n",
    "    \n",
    "    X_train, X_test = train_datasets_list[i], test_datasets_list[i]\n",
    "    \n",
    "    classifier = MLPRegressor()\n",
    "    # Fitting the model\n",
    "    classifier.fit(X_train, y_train)\n",
    "    # Predicting score matches of 2017\n",
    "    predicteds = classifier.predict(X_test)\n",
    "    \n",
    "    r2_scores = R2_scores(X_test, y_test.values, predicteds)\n",
    "    scores[encoding_names[i]]['r2'] = r2_scores[0]\n",
    "    scores[encoding_names[i]]['adjusted_r2'] = r2_scores[1]\n",
    "    scores[encoding_names[i]]['mean_squared_error'] = mean_squared_error(y_test, predicteds)\n",
    "    scores[encoding_names[i]]['mean_absolute_error'] = mean_absolute_error(y_test, predicteds)\n",
    "\n",
    "print('One Hoting encode: ', scores['One Hot'])\n",
    "print()\n",
    "print('Binary Encoding: ', scores['Binary'])\n",
    "print()\n",
    "print('Backward Difference: ', scores['Backward Difference'])"
   ]
  },
  {
   "cell_type": "markdown",
   "metadata": {},
   "source": [
    "#### __Conclusion__:\n",
    "\n",
    "We observed here a similar effectiveness of the models with the differents categorical encodings, however it's clear that One Hot Encoding is the one with worst performance of the three that I choose to apply on datasets. I would say that the best metric score to choose and validate this models is Mean Absolute Error (MAE), because it is less affected by outlier errors and have easy interpretion whereas it is the absolute distance of what were predicted and what is the true value. After this one, Adjusted R^2.\n",
    "\n",
    "Due to this, we got Linear Regression, Decision Tree Regressor and MLP as best models comparing your MAE to the others."
   ]
  },
  {
   "cell_type": "markdown",
   "metadata": {},
   "source": [
    "## Feature Engineering / Feature Selection\n",
    "\n",
    "In this section I will only apply normalization to _round_ feature and test if our perfomance get higher. "
   ]
  },
  {
   "cell_type": "code",
   "execution_count": 68,
   "metadata": {},
   "outputs": [],
   "source": [
    "# Apply normalization on \"round\" column\n",
    "from sklearn.preprocessing import MinMaxScaler \n",
    "\n",
    "for i in range(len(train_datasets_list)):\n",
    "    min_max_scaler = MinMaxScaler()\n",
    "    x = train_datasets_list[i][['round']].values.astype(float)\n",
    "    x2 = test_datasets_list[i][['round']].values.astype(float)\n",
    "    \n",
    "    x_scaled = min_max_scaler.fit_transform(x)\n",
    "    x2_scaled = min_max_scaler.fit_transform(x2)\n",
    "    \n",
    "    train_datasets_list[i][['round']] = x_scaled\n",
    "    test_datasets_list[i][['round']] = x2_scaled"
   ]
  },
  {
   "cell_type": "markdown",
   "metadata": {},
   "source": [
    "## Final model evaluation and selection\n",
    "\n",
    "I'm going to evaluate the models again with _round_ normalized."
   ]
  },
  {
   "cell_type": "markdown",
   "metadata": {},
   "source": [
    "### Linear Regression"
   ]
  },
  {
   "cell_type": "code",
   "execution_count": 69,
   "metadata": {},
   "outputs": [
    {
     "data": {
      "text/plain": [
       "LinearRegression(copy_X=True, fit_intercept=True, n_jobs=None,\n",
       "         normalize=False)"
      ]
     },
     "execution_count": 69,
     "metadata": {},
     "output_type": "execute_result"
    },
    {
     "data": {
      "text/plain": [
       "LinearRegression(copy_X=True, fit_intercept=True, n_jobs=None,\n",
       "         normalize=False)"
      ]
     },
     "execution_count": 69,
     "metadata": {},
     "output_type": "execute_result"
    },
    {
     "data": {
      "text/plain": [
       "LinearRegression(copy_X=True, fit_intercept=True, n_jobs=None,\n",
       "         normalize=False)"
      ]
     },
     "execution_count": 69,
     "metadata": {},
     "output_type": "execute_result"
    },
    {
     "name": "stdout",
     "output_type": "stream",
     "text": [
      "One Hoting encode:  {'mean_absolute_error': 0.8675172777399809, 'r2': array([-0.01830628,  0.02845504]), 'adjusted_r2': array([-0.62471339, -0.55010544]), 'mean_squared_error': 1.163084029801543}\n",
      "\n",
      "Binary Encoding:  {'mean_absolute_error': 0.8566335588761474, 'r2': array([-0.00827523,  0.03288854]), 'adjusted_r2': array([-0.07247253, -0.02868785]), 'mean_squared_error': 1.154523234373043}\n",
      "\n",
      "Backward Difference:  {'mean_absolute_error': 0.8675172777399817, 'r2': array([-0.01830628,  0.02845504]), 'adjusted_r2': array([-0.59778443, -0.52441309]), 'mean_squared_error': 1.1630840298015444}\n"
     ]
    }
   ],
   "source": [
    "from sklearn.linear_model import LinearRegression\n",
    "scores = {}\n",
    "\n",
    "\n",
    "for i in range(len(train_datasets_list)):\n",
    "    scores[encoding_names[i]] = {'r2': -999}\n",
    "    scores[encoding_names[i]] = {'adjusted_r2': -999}\n",
    "    scores[encoding_names[i]] = {'mean_squared_error': -999}\n",
    "    scores[encoding_names[i]] = {'mean_absolute_error': -999}\n",
    "    X_train, X_test = train_datasets_list[i], test_datasets_list[i]\n",
    "\n",
    "    classifier = LinearRegression()\n",
    "    # Fitting the model\n",
    "    classifier.fit(X_train, y_train)\n",
    "    # Predicting score matches of 2017\n",
    "    predicteds = classifier.predict(X_test)\n",
    "    \n",
    "    r2_scores = R2_scores(X_test, y_test.values, predicteds)\n",
    "    scores[encoding_names[i]]['r2'] = r2_scores[0]\n",
    "    scores[encoding_names[i]]['adjusted_r2'] = r2_scores[1]\n",
    "    scores[encoding_names[i]]['mean_squared_error'] = mean_squared_error(y_test, predicteds)\n",
    "    scores[encoding_names[i]]['mean_absolute_error'] = mean_absolute_error(y_test, predicteds)\n",
    "\n",
    "print('One Hoting encode: ', scores['One Hot'])\n",
    "print()\n",
    "print('Binary Encoding: ', scores['Binary'])\n",
    "print()\n",
    "print('Backward Difference: ', scores['Backward Difference'])"
   ]
  },
  {
   "cell_type": "markdown",
   "metadata": {},
   "source": [
    "### Kernel Ridge"
   ]
  },
  {
   "cell_type": "code",
   "execution_count": 70,
   "metadata": {},
   "outputs": [
    {
     "data": {
      "text/plain": [
       "KernelRidge(alpha=1.0, coef0=1, degree=3, gamma=None, kernel='linear',\n",
       "      kernel_params=None)"
      ]
     },
     "execution_count": 70,
     "metadata": {},
     "output_type": "execute_result"
    },
    {
     "data": {
      "text/plain": [
       "KernelRidge(alpha=1.0, coef0=1, degree=3, gamma=None, kernel='linear',\n",
       "      kernel_params=None)"
      ]
     },
     "execution_count": 70,
     "metadata": {},
     "output_type": "execute_result"
    },
    {
     "data": {
      "text/plain": [
       "KernelRidge(alpha=1.0, coef0=1, degree=3, gamma=None, kernel='linear',\n",
       "      kernel_params=None)"
      ]
     },
     "execution_count": 70,
     "metadata": {},
     "output_type": "execute_result"
    },
    {
     "name": "stdout",
     "output_type": "stream",
     "text": [
      "One Hoting encode:  {'mean_absolute_error': 0.8651085222324789, 'r2': array([-0.01135471,  0.02680126]), 'adjusted_r2': array([-0.61362212, -0.55274406]), 'mean_squared_error': 1.159816197106988}\n",
      "\n",
      "Binary Encoding:  {'mean_absolute_error': 0.8782102959180886, 'r2': array([-0.07435467,  0.00796811]), 'adjusted_r2': array([-0.14275928, -0.05519497]), 'mean_squared_error': 1.2085012450752501}\n",
      "\n",
      "Backward Difference:  {'mean_absolute_error': 0.9371606532979186, 'r2': array([-0.26845915, -0.1046884 ]), 'adjusted_r2': array([-0.99028949, -0.73332323]), 'mean_squared_error': 1.3893044493398752}\n"
     ]
    }
   ],
   "source": [
    "# Importing all machine learning models that I'm going to use:\n",
    "from sklearn.kernel_ridge import KernelRidge\n",
    "\n",
    "scores = {}\n",
    "\n",
    "for i in range(len(train_datasets_list)):\n",
    "    scores[encoding_names[i]] = {'r2': -999}\n",
    "    scores[encoding_names[i]] = {'adjusted_r2': -999}\n",
    "    scores[encoding_names[i]] = {'mean_squared_error': -999}\n",
    "    scores[encoding_names[i]] = {'mean_absolute_error': -999}\n",
    "    X_train, X_test = train_datasets_list[i], test_datasets_list[i]\n",
    "    \n",
    "    classifier = KernelRidge(alpha=1.0)\n",
    "    # Fitting the model\n",
    "    classifier.fit(X_train, y_train)\n",
    "    # Predicting score matches of 2017\n",
    "    predicteds = classifier.predict(X_test)\n",
    "    \n",
    "    r2_scores = R2_scores(X_test, y_test.values, predicteds)\n",
    "    \n",
    "    scores[encoding_names[i]]['r2'] = r2_scores[0]\n",
    "    scores[encoding_names[i]]['adjusted_r2'] = r2_scores[1]\n",
    "    scores[encoding_names[i]]['mean_squared_error'] = mean_squared_error(y_test, predicteds)\n",
    "    scores[encoding_names[i]]['mean_absolute_error'] = mean_absolute_error(y_test, predicteds)\n",
    "    \n",
    "print('One Hoting encode: ', scores['One Hot'])\n",
    "print()\n",
    "print('Binary Encoding: ', scores['Binary'])\n",
    "print()\n",
    "print('Backward Difference: ', scores['Backward Difference'])"
   ]
  },
  {
   "cell_type": "markdown",
   "metadata": {},
   "source": [
    "### K Neighbors Regressor"
   ]
  },
  {
   "cell_type": "code",
   "execution_count": 71,
   "metadata": {},
   "outputs": [
    {
     "data": {
      "text/plain": [
       "KNeighborsRegressor(algorithm='auto', leaf_size=30, metric='minkowski',\n",
       "          metric_params=None, n_jobs=None, n_neighbors=20, p=2,\n",
       "          weights='uniform')"
      ]
     },
     "execution_count": 71,
     "metadata": {},
     "output_type": "execute_result"
    },
    {
     "data": {
      "text/plain": [
       "KNeighborsRegressor(algorithm='auto', leaf_size=30, metric='minkowski',\n",
       "          metric_params=None, n_jobs=None, n_neighbors=20, p=2,\n",
       "          weights='uniform')"
      ]
     },
     "execution_count": 71,
     "metadata": {},
     "output_type": "execute_result"
    },
    {
     "data": {
      "text/plain": [
       "KNeighborsRegressor(algorithm='auto', leaf_size=30, metric='minkowski',\n",
       "          metric_params=None, n_jobs=None, n_neighbors=20, p=2,\n",
       "          weights='uniform')"
      ]
     },
     "execution_count": 71,
     "metadata": {},
     "output_type": "execute_result"
    },
    {
     "name": "stdout",
     "output_type": "stream",
     "text": [
      "One Hoting encode:  {'mean_absolute_error': 0.8914912280701757, 'r2': array([-0.11505138,  0.02361723]), 'adjusted_r2': array([-0.77907075, -0.55782419]), 'mean_squared_error': 1.2242675438596482}\n",
      "\n",
      "Binary Encoding:  {'mean_absolute_error': 0.892105263157895, 'r2': array([-0.08510143, -0.0187378 ]), 'adjusted_r2': array([-0.15419029, -0.08360126]), 'mean_squared_error': 1.2300526315789475}\n",
      "\n",
      "Backward Difference:  {'mean_absolute_error': 0.9058771929824563, 'r2': array([-0.13429456, -0.0368933 ]), 'adjusted_r2': array([-0.77977709, -0.6269486 ]), 'mean_squared_error': 1.270013157894737}\n"
     ]
    }
   ],
   "source": [
    "from sklearn.neighbors import KNeighborsRegressor\n",
    "scores = {}\n",
    "\n",
    "for i in range(len(train_datasets_list)):\n",
    "    scores[encoding_names[i]] = {'r2': -999}\n",
    "    scores[encoding_names[i]] = {'adjusted_r2': -999}\n",
    "    scores[encoding_names[i]] = {'mean_squared_error': -999}\n",
    "    scores[encoding_names[i]] = {'mean_absolute_error': -999}\n",
    "    X_train, X_test = train_datasets_list[i], test_datasets_list[i]\n",
    "    \n",
    "    classifier = KNeighborsRegressor(n_neighbors=20)\n",
    "    # Fitting the model\n",
    "    classifier.fit(X_train, y_train)\n",
    "    # Predicting score matches of 2017\n",
    "    predicteds = classifier.predict(X_test)\n",
    "    \n",
    "    r2_scores = R2_scores(X_test, y_test.values, predicteds)\n",
    "    scores[encoding_names[i]]['r2'] = r2_scores[0]\n",
    "    scores[encoding_names[i]]['adjusted_r2'] = r2_scores[1]\n",
    "    scores[encoding_names[i]]['mean_squared_error'] = mean_squared_error(y_test, predicteds)\n",
    "    scores[encoding_names[i]]['mean_absolute_error'] = mean_absolute_error(y_test, predicteds)\n",
    "\n",
    "print('One Hoting encode: ', scores['One Hot'])\n",
    "print()\n",
    "print('Binary Encoding: ', scores['Binary'])\n",
    "print()\n",
    "print('Backward Difference: ', scores['Backward Difference'])"
   ]
  },
  {
   "cell_type": "markdown",
   "metadata": {},
   "source": [
    "### Decision Tree Regressor"
   ]
  },
  {
   "cell_type": "code",
   "execution_count": 72,
   "metadata": {},
   "outputs": [
    {
     "data": {
      "text/plain": [
       "DecisionTreeRegressor(criterion='mse', max_depth=5, max_features=None,\n",
       "           max_leaf_nodes=None, min_impurity_decrease=0.0,\n",
       "           min_impurity_split=None, min_samples_leaf=1,\n",
       "           min_samples_split=2, min_weight_fraction_leaf=0.0,\n",
       "           presort=False, random_state=None, splitter='best')"
      ]
     },
     "execution_count": 72,
     "metadata": {},
     "output_type": "execute_result"
    },
    {
     "data": {
      "text/plain": [
       "DecisionTreeRegressor(criterion='mse', max_depth=5, max_features=None,\n",
       "           max_leaf_nodes=None, min_impurity_decrease=0.0,\n",
       "           min_impurity_split=None, min_samples_leaf=1,\n",
       "           min_samples_split=2, min_weight_fraction_leaf=0.0,\n",
       "           presort=False, random_state=None, splitter='best')"
      ]
     },
     "execution_count": 72,
     "metadata": {},
     "output_type": "execute_result"
    },
    {
     "data": {
      "text/plain": [
       "DecisionTreeRegressor(criterion='mse', max_depth=5, max_features=None,\n",
       "           max_leaf_nodes=None, min_impurity_decrease=0.0,\n",
       "           min_impurity_split=None, min_samples_leaf=1,\n",
       "           min_samples_split=2, min_weight_fraction_leaf=0.0,\n",
       "           presort=False, random_state=None, splitter='best')"
      ]
     },
     "execution_count": 72,
     "metadata": {},
     "output_type": "execute_result"
    },
    {
     "name": "stdout",
     "output_type": "stream",
     "text": [
      "One Hoting encode:  {'mean_absolute_error': 0.8895772408634741, 'r2': array([-0.14939276, -0.09976235]), 'adjusted_r2': array([-0.83386261, -0.75467701]), 'mean_squared_error': 1.314584123405401}\n",
      "\n",
      "Binary Encoding:  {'mean_absolute_error': 0.8841905585450334, 'r2': array([-0.06440612,  0.01331262]), 'adjusted_r2': array([-0.13217729, -0.04951017]), 'mean_squared_error': 1.1994766195845372}\n",
      "\n",
      "Backward Difference:  {'mean_absolute_error': 0.8812467570340801, 'r2': array([-0.06405833,  0.0085027 ]), 'adjusted_r2': array([-0.66957218, -0.55571952]), 'mean_squared_error': 1.2019785140434007}\n"
     ]
    }
   ],
   "source": [
    "from sklearn.tree import DecisionTreeRegressor\n",
    "\n",
    "scores = {}\n",
    "\n",
    "for i in range(len(train_datasets_list)):\n",
    "    scores[encoding_names[i]] = {'r2': -999}\n",
    "    scores[encoding_names[i]] = {'adjusted_r2': -999}\n",
    "    scores[encoding_names[i]] = {'mean_squared_error': -999}\n",
    "    scores[encoding_names[i]] = {'mean_absolute_error': -999}\n",
    "    X_train, X_test = train_datasets_list[i], test_datasets_list[i]\n",
    "    \n",
    "    classifier = DecisionTreeRegressor(max_depth=5)\n",
    "    # Fitting the model\n",
    "    classifier.fit(X_train, y_train)\n",
    "    # Predicting score matches of 2017\n",
    "    predicteds = classifier.predict(X_test)\n",
    "    \n",
    "    r2_scores = R2_scores(X_test, y_test.values, predicteds)\n",
    "    scores[encoding_names[i]]['r2'] = r2_scores[0]\n",
    "    scores[encoding_names[i]]['adjusted_r2'] = r2_scores[1]\n",
    "    scores[encoding_names[i]]['mean_squared_error'] = mean_squared_error(y_test, predicteds)\n",
    "    scores[encoding_names[i]]['mean_absolute_error'] = mean_absolute_error(y_test, predicteds)\n",
    "\n",
    "print('One Hoting encode: ', scores['One Hot'])\n",
    "print()\n",
    "print('Binary Encoding: ', scores['Binary'])\n",
    "print()\n",
    "print('Backward Difference: ', scores['Backward Difference'])"
   ]
  },
  {
   "cell_type": "markdown",
   "metadata": {},
   "source": [
    "### Gradient Boosting"
   ]
  },
  {
   "cell_type": "code",
   "execution_count": 73,
   "metadata": {},
   "outputs": [
    {
     "name": "stdout",
     "output_type": "stream",
     "text": [
      "One Hoting encode:  {'mean_absolute_error': 0.8874451824159656, 'r2': array([-0.07352434, -0.06569922]), 'adjusted_r2': array([-0.71281412, -0.70032909]), 'mean_squared_error': 1.24953632214936}\n",
      "\n",
      "Binary Encoding:  {'mean_absolute_error': 0.9105674600316065, 'r2': array([-0.12836261, -0.04360164]), 'adjusted_r2': array([-0.20020593, -0.11004819]), 'mean_squared_error': 1.2702113855763664}\n",
      "\n",
      "Backward Difference:  {'mean_absolute_error': 0.8999779444558806, 'r2': array([-0.09756557, -0.04892802]), 'adjusted_r2': array([-0.72214709, -0.6458318 ]), 'mean_squared_error': 1.2546063009976876}\n"
     ]
    }
   ],
   "source": [
    "from sklearn.ensemble import GradientBoostingRegressor\n",
    "from sklearn.multioutput import MultiOutputRegressor\n",
    "\n",
    "scores = {}\n",
    "\n",
    "for i in range(len(train_datasets_list)):\n",
    "    scores[encoding_names[i]] = {'r2': -999}\n",
    "    scores[encoding_names[i]] = {'adjusted_r2': -999}\n",
    "    scores[encoding_names[i]] = {'mean_squared_error': -999}\n",
    "    scores[encoding_names[i]] = {'mean_absolute_error': -999}\n",
    "    X_train, X_test = train_datasets_list[i], test_datasets_list[i]\n",
    "    \n",
    "    classifier = MultiOutputRegressor(GradientBoostingRegressor(max_depth=5)).fit(X_train, y_train)\n",
    "\n",
    "    # Predicting score matches of 2017\n",
    "    predicteds = classifier.predict(X_test)\n",
    "    \n",
    "    r2_scores = R2_scores(X_test, y_test.values, predicteds)\n",
    "    scores[encoding_names[i]]['r2'] = r2_scores[0]\n",
    "    scores[encoding_names[i]]['adjusted_r2'] = r2_scores[1]\n",
    "    scores[encoding_names[i]]['mean_squared_error'] = mean_squared_error(y_test, predicteds)\n",
    "    scores[encoding_names[i]]['mean_absolute_error'] = mean_absolute_error(y_test, predicteds)\n",
    "\n",
    "print('One Hoting encode: ', scores['One Hot'])\n",
    "print()\n",
    "print('Binary Encoding: ', scores['Binary'])\n",
    "print()\n",
    "print('Backward Difference: ', scores['Backward Difference'])"
   ]
  },
  {
   "cell_type": "markdown",
   "metadata": {},
   "source": [
    "### MLP Regressor"
   ]
  },
  {
   "cell_type": "code",
   "execution_count": 74,
   "metadata": {},
   "outputs": [
    {
     "data": {
      "text/plain": [
       "MLPRegressor(activation='relu', alpha=0.0001, batch_size='auto', beta_1=0.9,\n",
       "       beta_2=0.999, early_stopping=False, epsilon=1e-08,\n",
       "       hidden_layer_sizes=(100,), learning_rate='constant',\n",
       "       learning_rate_init=0.001, max_iter=200, momentum=0.9,\n",
       "       n_iter_no_change=10, nesterovs_momentum=True, power_t=0.5,\n",
       "       random_state=None, shuffle=True, solver='adam', tol=0.0001,\n",
       "       validation_fraction=0.1, verbose=False, warm_start=False)"
      ]
     },
     "execution_count": 74,
     "metadata": {},
     "output_type": "execute_result"
    },
    {
     "data": {
      "text/plain": [
       "MLPRegressor(activation='relu', alpha=0.0001, batch_size='auto', beta_1=0.9,\n",
       "       beta_2=0.999, early_stopping=False, epsilon=1e-08,\n",
       "       hidden_layer_sizes=(100,), learning_rate='constant',\n",
       "       learning_rate_init=0.001, max_iter=200, momentum=0.9,\n",
       "       n_iter_no_change=10, nesterovs_momentum=True, power_t=0.5,\n",
       "       random_state=None, shuffle=True, solver='adam', tol=0.0001,\n",
       "       validation_fraction=0.1, verbose=False, warm_start=False)"
      ]
     },
     "execution_count": 74,
     "metadata": {},
     "output_type": "execute_result"
    },
    {
     "data": {
      "text/plain": [
       "MLPRegressor(activation='relu', alpha=0.0001, batch_size='auto', beta_1=0.9,\n",
       "       beta_2=0.999, early_stopping=False, epsilon=1e-08,\n",
       "       hidden_layer_sizes=(100,), learning_rate='constant',\n",
       "       learning_rate_init=0.001, max_iter=200, momentum=0.9,\n",
       "       n_iter_no_change=10, nesterovs_momentum=True, power_t=0.5,\n",
       "       random_state=None, shuffle=True, solver='adam', tol=0.0001,\n",
       "       validation_fraction=0.1, verbose=False, warm_start=False)"
      ]
     },
     "execution_count": 74,
     "metadata": {},
     "output_type": "execute_result"
    },
    {
     "name": "stdout",
     "output_type": "stream",
     "text": [
      "One Hoting encode:  {'mean_absolute_error': 0.8836667079946706, 'r2': array([-0.08133406,  0.01125241]), 'adjusted_r2': array([-0.72527457, -0.57755233]), 'mean_squared_error': 1.210866527444686}\n",
      "\n",
      "Binary Encoding:  {'mean_absolute_error': 0.8680294402613362, 'r2': array([0.01054831, 0.01234313]), 'adjusted_r2': array([-0.05245049, -0.05054139]), 'mean_squared_error': 1.1547339652721}\n",
      "\n",
      "Backward Difference:  {'mean_absolute_error': 0.9079051100855184, 'r2': array([-0.14899189, -0.05766617]), 'adjusted_r2': array([-0.8028381, -0.6595425]), 'mean_squared_error': 1.2906062809405856}\n"
     ]
    }
   ],
   "source": [
    "from sklearn.neural_network import MLPRegressor\n",
    "\n",
    "scores = {}\n",
    "\n",
    "for i in range(len(train_datasets_list)):\n",
    "    scores[encoding_names[i]] = {'r2': -999}\n",
    "    scores[encoding_names[i]] = {'adjusted_r2': -999}\n",
    "    scores[encoding_names[i]] = {'mean_squared_error': -999}\n",
    "    scores[encoding_names[i]] = {'mean_absolute_error': -999}\n",
    "    \n",
    "    X_train, X_test = train_datasets_list[i], test_datasets_list[i]\n",
    "    \n",
    "    classifier = MLPRegressor()\n",
    "    # Fitting the model\n",
    "    classifier.fit(X_train, y_train)\n",
    "    # Predicting score matches of 2017\n",
    "    predicteds = classifier.predict(X_test)\n",
    "    \n",
    "    r2_scores = R2_scores(X_test, y_test.values, predicteds)\n",
    "    scores[encoding_names[i]]['r2'] = r2_scores[0]\n",
    "    scores[encoding_names[i]]['adjusted_r2'] = r2_scores[1]\n",
    "    scores[encoding_names[i]]['mean_squared_error'] = mean_squared_error(y_test, predicteds)\n",
    "    scores[encoding_names[i]]['mean_absolute_error'] = mean_absolute_error(y_test, predicteds)\n",
    "\n",
    "print('One Hoting encode: ', scores['One Hot'])\n",
    "print()\n",
    "print('Binary Encoding: ', scores['Binary'])\n",
    "print()\n",
    "print('Backward Difference: ', scores['Backward Difference'])"
   ]
  },
  {
   "cell_type": "markdown",
   "metadata": {},
   "source": [
    "### __Conclusion__:\n",
    "\n",
    "With _round_  feature normalized almost nothing has changed, but overall our performance get little bit lower.\n",
    "\n",
    "_____"
   ]
  },
  {
   "cell_type": "markdown",
   "metadata": {},
   "source": [
    "### Saving our final model to put in production:\n",
    "\n",
    "To save our trained model to put in production we can save it as a [pickle](https://docs.python.org/3/library/pickle.html), and load after."
   ]
  },
  {
   "cell_type": "markdown",
   "metadata": {},
   "source": [
    "## Conclusion\n",
    "\n",
    "Well, our best MAE was about 0.84 ~ 0.86 with Decision Tree, MLP and Linear regressions models using principally Binary and Backward Difference for categorical encoding. I would choose __Binary Encoding__ as categorical encoding to production because their scores was almost the same and Binary make our dataset with much less dimensions as we have see before."
   ]
  },
  {
   "cell_type": "markdown",
   "metadata": {},
   "source": [
    "### How improve the model?"
   ]
  },
  {
   "cell_type": "markdown",
   "metadata": {},
   "source": [
    "This section is only to talk about __how we could improve our model__. There is a few things which we could do to get a better performance at predicting football matches scores considering our current dataset:\n",
    "- We could do feature engineering, generating new features with the current ones\n",
    "- We could do a better hyperparameter tuning, I've did just a manually one with the models\n",
    "- And finnaly, collect more features! More features probably will generate a more robust model. Metrics such as team's name, name of the stadium that is going on the football match, how many players were substituted during the game, how many cards, how many minutes, etc. Are infinite the number of features we could collect to improve our model"
   ]
  }
 ],
 "metadata": {
  "kernelspec": {
   "display_name": "Python 3",
   "language": "python",
   "name": "python3"
  },
  "language_info": {
   "codemirror_mode": {
    "name": "ipython",
    "version": 3
   },
   "file_extension": ".py",
   "mimetype": "text/x-python",
   "name": "python",
   "nbconvert_exporter": "python",
   "pygments_lexer": "ipython3",
   "version": "3.6.7"
  }
 },
 "nbformat": 4,
 "nbformat_minor": 2
}
